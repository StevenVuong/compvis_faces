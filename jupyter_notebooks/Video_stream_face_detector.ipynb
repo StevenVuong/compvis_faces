{
  "nbformat": 4,
  "nbformat_minor": 0,
  "metadata": {
    "kernelspec": {
      "display_name": "Python 3",
      "language": "python",
      "name": "python3"
    },
    "language_info": {
      "codemirror_mode": {
        "name": "ipython",
        "version": 3
      },
      "file_extension": ".py",
      "mimetype": "text/x-python",
      "name": "python",
      "nbconvert_exporter": "python",
      "pygments_lexer": "ipython3",
      "version": "3.6.9"
    },
    "colab": {
      "name": "Video_stream_face_detector.ipynb",
      "provenance": [],
      "collapsed_sections": [
        "aM5vQeHyzzPY"
      ],
      "include_colab_link": true
    }
  },
  "cells": [
    {
      "cell_type": "markdown",
      "metadata": {
        "id": "view-in-github",
        "colab_type": "text"
      },
      "source": [
        "<a href=\"https://colab.research.google.com/github/StevenVuong/compvis_playground/blob/master/jupyter_notebooks/Video_stream_face_detector.ipynb\" target=\"_parent\"><img src=\"https://colab.research.google.com/assets/colab-badge.svg\" alt=\"Open In Colab\"/></a>"
      ]
    },
    {
      "cell_type": "markdown",
      "metadata": {
        "id": "3bmbdWzryCON",
        "colab_type": "text"
      },
      "source": [
        "###### Aim Here: Load Data from a video feed, detect frames and extract particular frames with faces in them using face detection.\n",
        "Breakdown:\n",
        "-  Load frames from video feed (5 second snippets?)\n",
        "-  Pass frames through face detection\n",
        "-  Select frames with 1 or more faces in them"
      ]
    },
    {
      "cell_type": "markdown",
      "metadata": {
        "id": "aM5vQeHyzzPY",
        "colab_type": "text"
      },
      "source": [
        "###### Install Dependencies"
      ]
    },
    {
      "cell_type": "code",
      "metadata": {
        "id": "AmLUAtdzyCOY",
        "colab_type": "code",
        "colab": {
          "base_uri": "https://localhost:8080/",
          "height": 52
        },
        "outputId": "c372f226-dee7-4efc-93b0-17db8ac7ebc7"
      },
      "source": [
        "# Better to make a requirements.txt and pip install that\n",
        "!pip install pafy\n",
        "!pip install youtube_dl"
      ],
      "execution_count": 1,
      "outputs": [
        {
          "output_type": "stream",
          "text": [
            "Requirement already satisfied: pafy in /usr/local/lib/python3.6/dist-packages (0.5.5)\n",
            "Requirement already satisfied: youtube_dl in /usr/local/lib/python3.6/dist-packages (2020.3.6)\n"
          ],
          "name": "stdout"
        }
      ]
    },
    {
      "cell_type": "code",
      "metadata": {
        "id": "tkUj_NEnzbWL",
        "colab_type": "code",
        "colab": {}
      },
      "source": [
        "import pafy\n",
        "import youtube_dl\n",
        "import time\n",
        "\n",
        "# Colab Imports..\n",
        "import cv2 # dependency, need to get on docker build..\n",
        "from google.colab.patches import cv2_imshow"
      ],
      "execution_count": 0,
      "outputs": []
    },
    {
      "cell_type": "code",
      "metadata": {
        "id": "W--0e9HfyCOQ",
        "colab_type": "code",
        "colab": {
          "base_uri": "https://localhost:8080/",
          "height": 123
        },
        "outputId": "1872654d-154c-4824-e359-851d6ecc68cc"
      },
      "source": [
        "%tensorflow_version 1.15.0\n",
        "import tensorflow as tf\n",
        "print(tf.__version__)"
      ],
      "execution_count": 3,
      "outputs": [
        {
          "output_type": "stream",
          "text": [
            "`%tensorflow_version` only switches the major version: 1.x or 2.x.\n",
            "You set: `1.15.0`. This will be interpreted as: `1.x`.\n",
            "\n",
            "\n",
            "TensorFlow 1.x selected.\n",
            "1.15.0\n"
          ],
          "name": "stdout"
        }
      ]
    },
    {
      "cell_type": "markdown",
      "metadata": {
        "id": "WjLFvJOh57Xo",
        "colab_type": "text"
      },
      "source": [
        "##### Set High level configs"
      ]
    },
    {
      "cell_type": "code",
      "metadata": {
        "id": "xM6-0ELB59t4",
        "colab_type": "code",
        "colab": {}
      },
      "source": [
        "LIVESTREAM_VIDEO_URL = \"https://www.youtube.com/watch?v=9Auq9mYxFEE\"\n",
        "NUM_FRAMES_TO_EXTRACT = 5\n",
        "WAIT_PER_FRAME = 20 # seconds"
      ],
      "execution_count": 0,
      "outputs": []
    },
    {
      "cell_type": "markdown",
      "metadata": {
        "id": "JP8kMsh_z2Ld",
        "colab_type": "text"
      },
      "source": [
        "###### Load Video"
      ]
    },
    {
      "cell_type": "code",
      "metadata": {
        "id": "833LdwrXy1cQ",
        "colab_type": "code",
        "colab": {}
      },
      "source": [
        "vPafy = pafy.new(LIVESTREAM_VIDEO_URL)"
      ],
      "execution_count": 0,
      "outputs": []
    },
    {
      "cell_type": "code",
      "metadata": {
        "id": "N5hP_Kh20Rlm",
        "colab_type": "code",
        "colab": {
          "base_uri": "https://localhost:8080/",
          "height": 34
        },
        "outputId": "8a1a40bb-e626-440f-8764-f911101908a1"
      },
      "source": [
        "isLive = False\n",
        "isLiveStatement=\"\"\n",
        "\n",
        "if vPafy.duration == '00:00:00': \n",
        "  isLive = True\n",
        "  isLiveStatement='Live'\n",
        "\n",
        "print (f\"{isLiveStatement} Stream Title: {vPafy.title}\")"
      ],
      "execution_count": 16,
      "outputs": [
        {
          "output_type": "stream",
          "text": [
            "Live Stream Title: Watch Sky News live\n"
          ],
          "name": "stdout"
        }
      ]
    },
    {
      "cell_type": "code",
      "metadata": {
        "id": "Why3QL7Uz_XS",
        "colab_type": "code",
        "colab": {
          "base_uri": "https://localhost:8080/",
          "height": 123
        },
        "outputId": "b7db7609-ba78-4c3c-c139-d270d7418681"
      },
      "source": [
        "vPafy.streams # get highest resolution stream"
      ],
      "execution_count": 17,
      "outputs": [
        {
          "output_type": "execute_result",
          "data": {
            "text/plain": [
              "[normal:mp4@256x144,\n",
              " normal:mp4@426x240,\n",
              " normal:mp4@640x360,\n",
              " normal:mp4@854x480,\n",
              " normal:mp4@1280x720,\n",
              " normal:mp4@1920x1080]"
            ]
          },
          "metadata": {
            "tags": []
          },
          "execution_count": 17
        }
      ]
    },
    {
      "cell_type": "markdown",
      "metadata": {
        "id": "luKZn07v4QBS",
        "colab_type": "text"
      },
      "source": [
        "##### Parse a particular preftype"
      ]
    },
    {
      "cell_type": "code",
      "metadata": {
        "id": "PxI9E_GnzPPv",
        "colab_type": "code",
        "colab": {}
      },
      "source": [
        "# Ref: https://stackoverflow.com/questions/37555195/is-it-possible-to-stream-video-from-https-e-g-youtube-into-python-with-ope\n",
        "play = vPafy.getbest(preftype=\"mp4\")\n",
        "\n",
        "#start the video\n",
        "cap = cv2.VideoCapture(play.url)\n",
        "\n",
        "for i in range(NUM_FRAMES_TO_EXTRACT):\n",
        "\n",
        "    ret,frame = cap.read()\n",
        "\n",
        "    print(f\"frame {i}/{NUM_FRAMES_TO_EXTRACT}\")\n",
        "    time.sleep(WAIT_PER_FRAME)\n",
        "\n",
        "    cv2_imshow(frame)\n",
        "    \n",
        "    # Need to store the frame somewhere\n",
        "\n",
        "cap.release()\n",
        "cv2.destroyAllWindows()"
      ],
      "execution_count": 0,
      "outputs": []
    },
    {
      "cell_type": "markdown",
      "metadata": {
        "id": "ImEKGX_U9uZG",
        "colab_type": "text"
      },
      "source": [
        "### ToDo: Convert to .py"
      ]
    },
    {
      "cell_type": "code",
      "metadata": {
        "id": "FCcZa7Dn-eCX",
        "colab_type": "code",
        "colab": {}
      },
      "source": [
        ""
      ],
      "execution_count": 0,
      "outputs": []
    }
  ]
}