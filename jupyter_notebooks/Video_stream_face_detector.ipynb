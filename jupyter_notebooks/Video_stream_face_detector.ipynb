{
  "nbformat": 4,
  "nbformat_minor": 0,
  "metadata": {
    "kernelspec": {
      "display_name": "Python 3",
      "language": "python",
      "name": "python3"
    },
    "language_info": {
      "codemirror_mode": {
        "name": "ipython",
        "version": 3
      },
      "file_extension": ".py",
      "mimetype": "text/x-python",
      "name": "python",
      "nbconvert_exporter": "python",
      "pygments_lexer": "ipython3",
      "version": "3.6.9"
    },
    "colab": {
      "name": "Video_stream_face_detector.ipynb",
      "provenance": [],
      "collapsed_sections": []
    }
  },
  "cells": [
    {
      "cell_type": "markdown",
      "metadata": {
        "id": "3bmbdWzryCON",
        "colab_type": "text"
      },
      "source": [
        "###### Aim Here: Load Data from a video feed, detect frames and extract particular frames with faces in them using face detection.\n",
        "Breakdown:\n",
        "-  Load frames from video feed (5 second snippets?)\n",
        "-  Pass frames through face detection\n",
        "-  Select frames with 1 or more faces in them"
      ]
    },
    {
      "cell_type": "markdown",
      "metadata": {
        "id": "aM5vQeHyzzPY",
        "colab_type": "text"
      },
      "source": [
        "###### Install Dependencies"
      ]
    },
    {
      "cell_type": "code",
      "metadata": {
        "id": "AmLUAtdzyCOY",
        "colab_type": "code",
        "colab": {}
      },
      "source": [
        "# Better to make a requirements.txt and pip install that\n",
        "!pip install pafy\n",
        "!pip install youtube_dl"
      ],
      "execution_count": 0,
      "outputs": []
    },
    {
      "cell_type": "code",
      "metadata": {
        "id": "tkUj_NEnzbWL",
        "colab_type": "code",
        "colab": {}
      },
      "source": [
        "import pafy\n",
        "import youtube_dl\n",
        "import time\n",
        "from urllib.error import HTTPError\n",
        "\n",
        "# Colab Imports..\n",
        "import cv2 # dependency, need to get on docker build..\n",
        "from google.colab.patches import cv2_imshow"
      ],
      "execution_count": 0,
      "outputs": []
    },
    {
      "cell_type": "markdown",
      "metadata": {
        "id": "WjLFvJOh57Xo",
        "colab_type": "text"
      },
      "source": [
        "##### Set High level configs"
      ]
    },
    {
      "cell_type": "code",
      "metadata": {
        "id": "xM6-0ELB59t4",
        "colab_type": "code",
        "colab": {}
      },
      "source": [
        "LIVESTREAM_VIDEO_URL = \"https://www.youtube.com/watch?v=9Auq9mYxFEE\"\n",
        "NUM_FRAMES_TO_EXTRACT = 5\n",
        "WAIT_PER_FRAME = 20 # seconds"
      ],
      "execution_count": 0,
      "outputs": []
    },
    {
      "cell_type": "markdown",
      "metadata": {
        "id": "JP8kMsh_z2Ld",
        "colab_type": "text"
      },
      "source": [
        "###### Load Video"
      ]
    },
    {
      "cell_type": "code",
      "metadata": {
        "id": "JFlWpZo5BENA",
        "colab_type": "code",
        "colab": {}
      },
      "source": [
        "try:\n",
        "  vPafy = pafy.new(LIVESTREAM_VIDEO_URL)\n",
        "except HTTPErrror as e:\n",
        "  print(\"HTTP Error:\", e.errno)"
      ],
      "execution_count": 0,
      "outputs": []
    },
    {
      "cell_type": "code",
      "metadata": {
        "id": "N5hP_Kh20Rlm",
        "colab_type": "code",
        "colab": {}
      },
      "source": [
        "\n",
        "isLive = False\n",
        "isLiveStatement=\"\"\n",
        "\n",
        "if vPafy.duration == '00:00:00': \n",
        "  isLive = True\n",
        "  isLiveStatement='Live'\n",
        "\n",
        "print (f\"{isLiveStatement} Stream Title: {vPafy.title}\")"
      ],
      "execution_count": 0,
      "outputs": []
    },
    {
      "cell_type": "code",
      "metadata": {
        "id": "Why3QL7Uz_XS",
        "colab_type": "code",
        "colab": {}
      },
      "source": [
        "vPafy.streams # get highest resolution stream"
      ],
      "execution_count": 0,
      "outputs": []
    },
    {
      "cell_type": "markdown",
      "metadata": {
        "id": "luKZn07v4QBS",
        "colab_type": "text"
      },
      "source": [
        "##### Parse a particular preftype"
      ]
    },
    {
      "cell_type": "code",
      "metadata": {
        "id": "PxI9E_GnzPPv",
        "colab_type": "code",
        "colab": {}
      },
      "source": [
        "# Ref: https://stackoverflow.com/questions/37555195/is-it-possible-to-stream-video-from-https-e-g-youtube-into-python-with-ope\n",
        "play = vPafy.getbest(preftype=\"mp4\")\n",
        "\n",
        "#start the video\n",
        "cap = cv2.VideoCapture(play.url)\n",
        "\n",
        "for i in range(NUM_FRAMES_TO_EXTRACT):\n",
        "\n",
        "    ret,frame = cap.read()\n",
        "\n",
        "    print(f\"frame {i}/{NUM_FRAMES_TO_EXTRACT}\")\n",
        "    time.sleep(WAIT_PER_FRAME)\n",
        "\n",
        "    cv2_imshow(frame)\n",
        "    \n",
        "    # Need to store the frame somewhere\n",
        "\n",
        "cap.release()\n",
        "cv2.destroyAllWindows()"
      ],
      "execution_count": 0,
      "outputs": []
    },
    {
      "cell_type": "code",
      "metadata": {
        "id": "FCcZa7Dn-eCX",
        "colab_type": "code",
        "colab": {}
      },
      "source": [
        ""
      ],
      "execution_count": 0,
      "outputs": []
    }
  ]
}