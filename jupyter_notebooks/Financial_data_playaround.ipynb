{
  "nbformat": 4,
  "nbformat_minor": 0,
  "metadata": {
    "colab": {
      "name": "Financial_data_playaround.ipynb",
      "provenance": [],
      "collapsed_sections": [
        "d1Mivqh90Ugb",
        "11VmEa1TkNYY",
        "k1GyZYDcFM1e",
        "E7qE39V28V68"
      ],
      "authorship_tag": "ABX9TyPbP6qo8hnCPrlHufZHwW7n",
      "include_colab_link": true
    },
    "kernelspec": {
      "name": "python3",
      "display_name": "Python 3"
    },
    "accelerator": "GPU"
  },
  "cells": [
    {
      "cell_type": "markdown",
      "metadata": {
        "id": "view-in-github",
        "colab_type": "text"
      },
      "source": [
        "<a href=\"https://colab.research.google.com/github/StevenVuong/self_learning/blob/master/Financial_data_playaround.ipynb\" target=\"_parent\"><img src=\"https://colab.research.google.com/assets/colab-badge.svg\" alt=\"Open In Colab\"/></a>"
      ]
    },
    {
      "cell_type": "markdown",
      "metadata": {
        "id": "qGO4UyQKGLWC",
        "colab_type": "text"
      },
      "source": [
        "### Goal: Apply basic algorithms (LTSM), 1D-NN and fbprophet to financial data"
      ]
    },
    {
      "cell_type": "markdown",
      "metadata": {
        "id": "GqL4t0sdcOfy",
        "colab_type": "text"
      },
      "source": [
        "#### Loading and Preparing Data"
      ]
    },
    {
      "cell_type": "markdown",
      "metadata": {
        "id": "Kn9k7kQcF98P",
        "colab_type": "text"
      },
      "source": [
        "##### Module Installations and Imports"
      ]
    },
    {
      "cell_type": "code",
      "metadata": {
        "id": "kVmmXHSoFB0H",
        "colab_type": "code",
        "colab": {}
      },
      "source": [
        "!pip install yfinance # https://pypi.org/project/yfinance/"
      ],
      "execution_count": 0,
      "outputs": []
    },
    {
      "cell_type": "code",
      "metadata": {
        "id": "nj4dpF3-FJe1",
        "colab_type": "code",
        "colab": {}
      },
      "source": [
        "# Standard Imports\n",
        "import pandas as pd\n",
        "import numpy as np\n",
        "import datetime\n",
        "\n",
        "# YFinance API\n",
        "import yfinance as yf\n",
        "\n",
        "# Display Imports\n",
        "from IPython.display import display\n",
        "from ipywidgets import interact, interactive, fixed, interact_manual, widgets\n",
        "import pprint\n",
        "import matplotlib.pyplot as plt\n",
        "\n",
        "%matplotlib inline"
      ],
      "execution_count": 0,
      "outputs": []
    },
    {
      "cell_type": "code",
      "metadata": {
        "id": "UdaSW-XX8fT2",
        "colab_type": "code",
        "colab": {}
      },
      "source": [
        "try:\n",
        "  # Use the %tensorflow_version magic if in colab.\n",
        "  %tensorflow_version 2.x\n",
        "except Exception:\n",
        "  pass"
      ],
      "execution_count": 0,
      "outputs": []
    },
    {
      "cell_type": "code",
      "metadata": {
        "id": "QeDRO9qX8oMb",
        "colab_type": "code",
        "colab": {}
      },
      "source": [
        "import tensorflow as tf\n",
        "\n",
        "keras = tf.keras"
      ],
      "execution_count": 0,
      "outputs": []
    },
    {
      "cell_type": "markdown",
      "metadata": {
        "id": "d1Mivqh90Ugb",
        "colab_type": "text"
      },
      "source": [
        "##### Some Utility Classes/Functions"
      ]
    },
    {
      "cell_type": "code",
      "metadata": {
        "id": "oUPN0e-S0XSS",
        "colab_type": "code",
        "colab": {}
      },
      "source": [
        "# Ref: https://stackoverflow.com/questions/8924173/how-do-i-print-bold-text-in-python\n",
        "class color:\n",
        "   PURPLE = '\\033[95m'\n",
        "   CYAN = '\\033[96m'\n",
        "   DARKCYAN = '\\033[36m'\n",
        "   BLUE = '\\033[94m'\n",
        "   GREEN = '\\033[92m'\n",
        "   YELLOW = '\\033[93m'\n",
        "   RED = '\\033[91m'\n",
        "   BOLD = '\\033[1m'\n",
        "   UNDERLINE = '\\033[4m'\n",
        "   END = '\\033[0m'\n",
        "\n",
        "print(color.BOLD + 'I am BOLD!' + color.END)"
      ],
      "execution_count": 0,
      "outputs": []
    },
    {
      "cell_type": "code",
      "metadata": {
        "id": "0cy8_A1UXQ70",
        "colab_type": "code",
        "colab": {}
      },
      "source": [
        "def format_date(date:datetime.datetime) -> str:\n",
        "  return (\"%2.0f-%02d-%02d\" % (date.year, date.month, date.day))"
      ],
      "execution_count": 0,
      "outputs": []
    },
    {
      "cell_type": "code",
      "metadata": {
        "id": "TRn4WswP3ZjU",
        "colab_type": "code",
        "colab": {}
      },
      "source": [
        "def dataframe_plots(stock_df: pd.DataFrame):\n",
        "  \"\"\"\n",
        "  Basic Plot to get an idea of the stock information, plotting:\n",
        "  -  High and Low\n",
        "  -  Open and Adjusted Close\n",
        "  -  Volume\n",
        "  For the given time Window\n",
        "  \"\"\"\n",
        "  plt.subplot(2,1,1)\n",
        "  stock_df.High.plot(label=\"High\")\n",
        "  stock_df.Low.plot(label=\"Low\")\n",
        "\n",
        "  plt.legend(loc=\"best\")\n",
        "  plt.title(\"High and Low\")\n",
        "  plt.show()\n",
        "\n",
        "\n",
        "  plt.subplot(2,1,1)\n",
        "  stock_df.Open.plot(label=\"Open\")\n",
        "  stock_df.Adj_Close.plot(label=\"Adj_Close\")\n",
        "\n",
        "  plt.legend(loc=\"best\")\n",
        "  plt.title(\"Open and Adjusted Close\")\n",
        "\n",
        "  plt.tight_layout()\n",
        "  plt.show()\n",
        "\n",
        "\n",
        "  plt.subplot(2,1,1)\n",
        "  stock_df.Volume.plot(label=\"Volume\")\n",
        "\n",
        "  plt.title(\"Volume\")\n",
        "\n",
        "  plt.tight_layout()\n",
        "  plt.show()"
      ],
      "execution_count": 0,
      "outputs": []
    },
    {
      "cell_type": "code",
      "metadata": {
        "id": "BA2IG3umbVpG",
        "colab_type": "code",
        "colab": {}
      },
      "source": [
        "def process_stock_df(dataframe:pd.DataFrame) -> pd.DataFrame:\n",
        "  \"\"\"\n",
        "  Renames Adjusted Close to remove the space\n",
        "  Adds differences column between high & low and open & adjusted_close\n",
        "  \"\"\"\n",
        "  dataframe = dataframe.rename(columns={\"Adj Close\": \"Adj_Close\"})\n",
        "  dataframe[\"hi_lo_diff\"] = dataframe.High - dataframe.Low\n",
        "  dataframe[\"op_adcl_diff\"] = dataframe.Adj_Close - dataframe.Open\n",
        "\n",
        "  return dataframe"
      ],
      "execution_count": 0,
      "outputs": []
    },
    {
      "cell_type": "code",
      "metadata": {
        "id": "euQyNe-GZ-tb",
        "colab_type": "code",
        "colab": {}
      },
      "source": [
        "def dataframe_plots_diff(stock_df_adj: pd.DataFrame):\n",
        "  \"\"\"\n",
        "  Plots The Following for a stock dataframe:\n",
        "  -  High - Low\n",
        "  -  Open - Adjusted Close\n",
        "  -  Volume\n",
        "  For the given time Window\n",
        "  \"\"\"\n",
        "  plt.subplot(2,1,1)\n",
        "  stock_df_adj.hi_lo_diff.plot()\n",
        "  plt.title(\"High - Low Difference\")\n",
        "  plt.show()\n",
        "\n",
        "  plt.subplot(2,1,1)\n",
        "  stock_df.op_adcl_diff.plot()\n",
        "  plt.title(\"Open - Adjusted Close\")\n",
        "  plt.show()\n",
        "\n",
        "\n",
        "  plt.subplot(2,1,1)\n",
        "  stock_df.Volume.plot()\n",
        "  plt.title(\"Volume\")\n",
        "  plt.show()"
      ],
      "execution_count": 0,
      "outputs": []
    },
    {
      "cell_type": "markdown",
      "metadata": {
        "id": "Gs1gVZBTGCdK",
        "colab_type": "text"
      },
      "source": [
        "##### Configurables: \n",
        "-  Days back to get data from\n",
        "-  Stock Tags to examine"
      ]
    },
    {
      "cell_type": "code",
      "metadata": {
        "id": "BAZhiB1-JkUF",
        "colab_type": "code",
        "colab": {}
      },
      "source": [
        "end_date = datetime.datetime.now() # Format: 'YYYY-MM-DD'\n",
        "\n",
        "stock_tag_list = [\"BABA\"] #, \"MSFT\", \"GOOGL\", \"AMZN\", \"BABA\"]\n",
        "\n",
        "print(\"Stock Tag Data to be obtained:\")\n",
        "pprint.pprint( stock_tag_list)"
      ],
      "execution_count": 0,
      "outputs": []
    },
    {
      "cell_type": "code",
      "metadata": {
        "id": "yxwOp4fAp4tL",
        "colab_type": "code",
        "colab": {}
      },
      "source": [
        "# Default days back and string of past\n",
        "days_back = 1000\n",
        "date_str_past = format_date(end_date - datetime.timedelta(days=days_back))\n",
        "\n",
        "print(\"Slide To adjust data taken from number of Days Past\")\n",
        "@interact(x=widgets.IntSlider(min=0, max=1000, step=1, value=days_back))\n",
        "def adjust_time_period(x):\n",
        "    days_back = x\n",
        "\n",
        "    date_str_now = format_date(end_date)\n",
        "    date_str_past = format_date(end_date - datetime.timedelta(days=days_back))\n",
        "\n",
        "    print(f\"Start Period: {date_str_past}, End Period: {date_str_now}\")"
      ],
      "execution_count": 0,
      "outputs": []
    },
    {
      "cell_type": "markdown",
      "metadata": {
        "id": "t4iVj1GEGG1m",
        "colab_type": "text"
      },
      "source": [
        "##### Loading the stocks"
      ]
    },
    {
      "cell_type": "code",
      "metadata": {
        "id": "sQTpez0YO2tl",
        "colab_type": "code",
        "colab": {}
      },
      "source": [
        "stock_df_dict = {}\n",
        "\n",
        "for stock_tag in stock_tag_list:\n",
        "\n",
        "  print(f\"Loading financial data for: {stock_tag}\")\n",
        "\n",
        "  stock_data = yf.download(stock_tag, date_str_past, end_date)\n",
        "  stock_df_dict[stock_tag]=stock_data\n",
        "\n",
        "  stock_data.Close"
      ],
      "execution_count": 0,
      "outputs": []
    },
    {
      "cell_type": "markdown",
      "metadata": {
        "id": "SjWxWiH-PWO3",
        "colab_type": "text"
      },
      "source": [
        "##### Examine data for desired Stock Tag"
      ]
    },
    {
      "cell_type": "code",
      "metadata": {
        "id": "jy7hapHsvAyA",
        "colab_type": "code",
        "colab": {}
      },
      "source": [
        "stock_tag_to_analyse = \"BABA\""
      ],
      "execution_count": 0,
      "outputs": []
    },
    {
      "cell_type": "code",
      "metadata": {
        "id": "4UZGWWtLvq_s",
        "colab_type": "code",
        "colab": {}
      },
      "source": [
        "stock_df = stock_df_dict.get(stock_tag_to_analyse)\n",
        "stock_df = process_stock_df(stock_df)"
      ],
      "execution_count": 0,
      "outputs": []
    },
    {
      "cell_type": "code",
      "metadata": {
        "id": "M48uBjWkYoWf",
        "colab_type": "code",
        "colab": {}
      },
      "source": [
        "print(\"Data For: \" + color.BOLD + stock_tag_to_analyse + color.END)\n",
        "stock_df.head()"
      ],
      "execution_count": 0,
      "outputs": []
    },
    {
      "cell_type": "code",
      "metadata": {
        "id": "zotASq-LFhg_",
        "colab_type": "code",
        "colab": {}
      },
      "source": [
        "#dataframe_plots(stock_df)"
      ],
      "execution_count": 0,
      "outputs": []
    },
    {
      "cell_type": "code",
      "metadata": {
        "id": "_-6Kl3NbabRR",
        "colab_type": "code",
        "colab": {}
      },
      "source": [
        "#dataframe_plots_diff(stock_df)"
      ],
      "execution_count": 0,
      "outputs": []
    },
    {
      "cell_type": "markdown",
      "metadata": {
        "id": "zmZqduZscGGV",
        "colab_type": "text"
      },
      "source": [
        "#### Now the Real Analysis Begins\n",
        "Goal: \n",
        "-  LSTM Forecasting for last three columns of df\n",
        "  -  Ensemble the three and see how they do against test set\n",
        "-  1D CNN Forecasting for last three columns of df\n",
        "  - Again, Ensemble\n",
        "  - Maybe we can increase the number of inputs to our NN, so there are 3 inputs instead  "
      ]
    },
    {
      "cell_type": "markdown",
      "metadata": {
        "id": "11VmEa1TkNYY",
        "colab_type": "text"
      },
      "source": [
        "##### Start with LSTM RNN Forecasting"
      ]
    },
    {
      "cell_type": "code",
      "metadata": {
        "id": "qeucY0j5R2cA",
        "colab_type": "code",
        "colab": {}
      },
      "source": [
        "## ToDo:\n",
        "# We will start with an LSTM, see how we go from there..\n",
        "# NN Inputs: Difference between Open & Adjusted CLose, Volume, Difference Between High and Low\n",
        "# Also look at what the big dogs are investing in and copy their trades to a given degree?\n",
        "# Do we want to filter out noise in our network?"
      ],
      "execution_count": 0,
      "outputs": []
    },
    {
      "cell_type": "code",
      "metadata": {
        "id": "kI0EZEiSFzgb",
        "colab_type": "code",
        "colab": {}
      },
      "source": [
        "# Split to train and test data, take 10% as test\n",
        "train_split = 0.9\n",
        "\n",
        "days_train = round(days_back * train_split)\n",
        "days_test = round((1-train_split) * days_train)\n",
        "\n",
        "print(\"Train/Test Split = {:.1f}:{:.1f}\".format(train_split, (1-train_split)))"
      ],
      "execution_count": 0,
      "outputs": []
    },
    {
      "cell_type": "code",
      "metadata": {
        "id": "IzuFf4cs_dQO",
        "colab_type": "code",
        "colab": {}
      },
      "source": [
        "# Format Dates for Test\n",
        "test_end_date = format_date(end_date) # Stick to day today\n",
        "datetime_test_start_date = end_date - datetime.timedelta(days=days_test)\n",
        "test_start_date = format_date(datetime_test_start_date)\n",
        "\n",
        "# Format Dates for Train\n",
        "train_end_date = test_start_date\n",
        "datetime_train_start_date = datetime_test_start_date - datetime.timedelta(days=days_train)\n",
        "train_start_date = format_date(datetime_train_start_date)\n",
        "\n",
        "print(\"Training Time Period: {} to {}\".format(train_start_date, train_end_date))\n",
        "print(\"Testing Time Period: {} to {}\".format(test_start_date, test_end_date))"
      ],
      "execution_count": 0,
      "outputs": []
    },
    {
      "cell_type": "code",
      "metadata": {
        "id": "apwDnGpX-4rL",
        "colab_type": "code",
        "colab": {}
      },
      "source": [
        "# Getting Data for Train and Test\n",
        "df_train = yf.download(stock_tag_to_analyse, train_start_date, train_end_date)\n",
        "df_train.Close\n",
        "\n",
        "df_test = yf.download(stock_tag_to_analyse, test_start_date, test_end_date)\n",
        "df_test.Close"
      ],
      "execution_count": 0,
      "outputs": []
    },
    {
      "cell_type": "code",
      "metadata": {
        "id": "9IlpkW29CCVQ",
        "colab_type": "code",
        "colab": {}
      },
      "source": [
        "df_train =  process_stock_df(df_train)\n",
        "df_test = process_stock_df(df_test)\n",
        "\n",
        "print(\"Number of days train: {}, Number of days test: {}\".format(len(df_train), len(df_test)))"
      ],
      "execution_count": 0,
      "outputs": []
    },
    {
      "cell_type": "markdown",
      "metadata": {
        "id": "k1GyZYDcFM1e",
        "colab_type": "text"
      },
      "source": [
        "##### Okay Apparently we had to split to train and test series; now let's try actual LTSM RNN Forecasting"
      ]
    },
    {
      "cell_type": "code",
      "metadata": {
        "id": "7yXDVuIUC1fz",
        "colab_type": "code",
        "colab": {}
      },
      "source": [
        "# Set what we want to train on\n",
        "x_train = df_train.hi_lo_diff.values\n",
        "x_test = df_test.hi_lo_diff.values\n",
        "# adjcl_diff needs to be multiplied by 100\n",
        "# hi_lo_diff can be taken as is\n",
        "# volume yet to work"
      ],
      "execution_count": 0,
      "outputs": []
    },
    {
      "cell_type": "code",
      "metadata": {
        "id": "DP-0eF7CJAjv",
        "colab_type": "code",
        "colab": {}
      },
      "source": [
        "def sequential_window_dataset(series, window_size):\n",
        "  \"\"\"\n",
        "  Creates a Sequential Window from a series input\n",
        "  Ref: https://www.tensorflow.org/api_docs/python/tf/data/Dataset\n",
        "  \"\"\"\n",
        "  series = tf.expand_dims(series, axis=-1)                                            # Puts in desired TF Format\n",
        "  ds = tf.data.Dataset.from_tensor_slices(series)                                     # Creates tf Dataset object\n",
        "  ds = ds.window(window_size + 1, shift=window_size, drop_remainder=True)             # Creates sliding of smaller  window of Dataset Object\n",
        "  ds = ds.flat_map(lambda window: window.batch(window_size + 1))                      # Make sure order stays the same\n",
        "  ds = ds.map(lambda window: (window[:-1], window[1:]))                               # Create map of window of the corresponding index\n",
        "  return ds.batch(1).prefetch(1)                                                      # Allow next batch to be prepared whilst current is processing\n",
        "\n",
        "class ResetStatesCallback(keras.callbacks.Callback):\n",
        "    def on_epoch_begin(self, epoch, logs):\n",
        "      \"\"\"\n",
        "      Abstract base to build new callbacks: https://keras.io/callbacks/S\n",
        "      \"\"\"\n",
        "      self.model.reset_states()"
      ],
      "execution_count": 0,
      "outputs": []
    },
    {
      "cell_type": "code",
      "metadata": {
        "id": "HraE6iNyDMYy",
        "colab_type": "code",
        "colab": {}
      },
      "source": [
        "keras.backend.clear_session()\n",
        "tf.random.set_seed(42)\n",
        "np.random.seed(42)\n",
        "\n",
        "window_size = 15 # Number of entires to consider as one dataset\n",
        "train_set = sequential_window_dataset(x_train, window_size)\n",
        "valid_set = sequential_window_dataset(x_test, window_size)\n",
        "\n",
        "model = keras.models.Sequential([\n",
        "  keras.layers.LSTM(128, return_sequences=True, stateful=True,\n",
        "                    batch_input_shape=[1, None, 1]),\n",
        "  keras.layers.LSTM(128, return_sequences=True, stateful=True),\n",
        "  keras.layers.Dense(1),\n",
        "  keras.layers.Lambda(lambda x: x ) # 1:1 mapping for the time being\n",
        "])\n",
        "\n",
        "lr_schedule = keras.callbacks.LearningRateScheduler(\n",
        "    lambda epoch: 1e-8 * 10**(epoch / 20)\n",
        "    )\n",
        "optimizer = keras.optimizers.SGD(lr=1e-8, momentum=0.9)\n",
        "\n",
        "model.compile(loss=keras.losses.Huber(),\n",
        "              optimizer=optimizer,\n",
        "              metrics=[\"mae\"]) #metric?\n",
        "\n",
        "reset_states = ResetStatesCallback()\n",
        "model_checkpoint = keras.callbacks.ModelCheckpoint(\n",
        "    \"my_checkpoint.h5\", save_best_only=True\n",
        ")\n",
        "early_stopping = keras.callbacks.EarlyStopping(patience=50)\n",
        "\n",
        "history = model.fit(\n",
        "    train_set, \n",
        "    epochs=500, # To be changed\n",
        "    validation_data=valid_set,\n",
        "    callbacks=[early_stopping, model_checkpoint, lr_schedule, reset_states]\n",
        "    )"
      ],
      "execution_count": 0,
      "outputs": []
    },
    {
      "cell_type": "markdown",
      "metadata": {
        "id": "E7qE39V28V68",
        "colab_type": "text"
      },
      "source": [
        "##### Plots for Model"
      ]
    },
    {
      "cell_type": "code",
      "metadata": {
        "id": "Asmx3LGX8VJQ",
        "colab_type": "code",
        "colab": {}
      },
      "source": [
        "plt.semilogx(history.history[\"lr\"], history.history[\"loss\"])\n",
        "plt.axis([1e-8, 1e-4, 0, 30])"
      ],
      "execution_count": 0,
      "outputs": []
    },
    {
      "cell_type": "markdown",
      "metadata": {
        "id": "G9YjjhdaE7Jj",
        "colab_type": "text"
      },
      "source": [
        "##### Predict with Model"
      ]
    },
    {
      "cell_type": "code",
      "metadata": {
        "id": "HCiSMUP_E-J2",
        "colab_type": "code",
        "colab": {}
      },
      "source": [
        "model = keras.models.load_model(\"my_checkpoint.h5\")"
      ],
      "execution_count": 0,
      "outputs": []
    },
    {
      "cell_type": "code",
      "metadata": {
        "id": "xOuYwPtVFEAG",
        "colab_type": "code",
        "colab": {}
      },
      "source": [
        "all_data = np.concatenate((x_train, x_test), axis=None)\n",
        "\n",
        "rnn_forecast = model.predict(all_data[np.newaxis, :, np.newaxis])\n",
        "rnn_forecast = rnn_forecast[0, -len(x_test):, 0]"
      ],
      "execution_count": 0,
      "outputs": []
    },
    {
      "cell_type": "code",
      "metadata": {
        "id": "aqENPaYDHXuU",
        "colab_type": "code",
        "colab": {}
      },
      "source": [
        "plt.plot(rnn_forecast)\n",
        "plt.plot(x_test)"
      ],
      "execution_count": 0,
      "outputs": []
    },
    {
      "cell_type": "code",
      "metadata": {
        "id": "WibXNvzGHxC5",
        "colab_type": "code",
        "colab": {}
      },
      "source": [
        "keras.metrics.mean_absolute_error(x_test, rnn_forecast).numpy()"
      ],
      "execution_count": 0,
      "outputs": []
    },
    {
      "cell_type": "markdown",
      "metadata": {
        "id": "CVoZzJW0PeL8",
        "colab_type": "text"
      },
      "source": [
        "##### Fully Convolutional Forecasting Now"
      ]
    },
    {
      "cell_type": "code",
      "metadata": {
        "id": "02hQ6nHGPkHx",
        "colab_type": "code",
        "colab": {}
      },
      "source": [
        "def seq2seq_window_dataset(series, window_size, batch_size=32,\n",
        "                           shuffle_buffer=1000):\n",
        "    series = tf.expand_dims(series, axis=-1)\n",
        "    ds = tf.data.Dataset.from_tensor_slices(series)\n",
        "    ds = ds.window(window_size + 1, shift=1, drop_remainder=True)\n",
        "    ds = ds.flat_map(lambda w: w.batch(window_size + 1))\n",
        "    ds = ds.shuffle(shuffle_buffer)\n",
        "    ds = ds.map(lambda w: (w[:-1], w[1:]))\n",
        "    return ds.batch(batch_size).prefetch(1)\n",
        "\n",
        "\n",
        "def model_forecast(model, series, window_size):\n",
        "    ds = tf.data.Dataset.from_tensor_slices(series)\n",
        "    ds = ds.window(window_size, shift=1, drop_remainder=True)\n",
        "    ds = ds.flat_map(lambda w: w.batch(window_size))\n",
        "    ds = ds.batch(32).prefetch(1)\n",
        "    forecast = model.predict(ds)\n",
        "    return forecast"
      ],
      "execution_count": 0,
      "outputs": []
    },
    {
      "cell_type": "code",
      "metadata": {
        "id": "46OoSbLTRpUq",
        "colab_type": "code",
        "colab": {}
      },
      "source": [
        "keras.backend.clear_session()\n",
        "tf.random.set_seed(42)\n",
        "np.random.seed(42)\n",
        "\n",
        "window_size = 32\n",
        "train_set = seq2seq_window_dataset(x_train, window_size,\n",
        "                                   batch_size=128)\n",
        "valid_set = seq2seq_window_dataset(x_test, window_size,\n",
        "                                   batch_size=128)\n",
        "\n",
        "model = keras.models.Sequential()\n",
        "model.add(keras.layers.InputLayer(input_shape=[None, 1]))\n",
        "for dilation_rate in (32, 64, 128, 256, 128, 64, 32):\n",
        "    model.add(\n",
        "      keras.layers.Conv1D(filters=dilation_rate,\n",
        "                          kernel_size=2,\n",
        "                          strides=1,\n",
        "                          dilation_rate=dilation_rate,\n",
        "                          padding=\"causal\",\n",
        "                          activation=\"relu\")\n",
        "    )\n",
        "\n",
        "model.add(keras.layers.Conv1D(filters=1, kernel_size=1))\n",
        "optimizer = keras.optimizers.Adam(lr=3e-4)\n",
        "model.compile(loss=keras.losses.Huber(),\n",
        "              optimizer=optimizer,\n",
        "              metrics=[\"mae\"])"
      ],
      "execution_count": 0,
      "outputs": []
    },
    {
      "cell_type": "code",
      "metadata": {
        "id": "-6w8Tt3oTUCn",
        "colab_type": "code",
        "colab": {}
      },
      "source": [
        "model.summary()"
      ],
      "execution_count": 0,
      "outputs": []
    },
    {
      "cell_type": "code",
      "metadata": {
        "id": "-ezolkN6TyeR",
        "colab_type": "code",
        "colab": {}
      },
      "source": [
        "model_checkpoint = keras.callbacks.ModelCheckpoint(\n",
        "    \"my_checkpoint.h5\", save_best_only=True)\n",
        "early_stopping = keras.callbacks.EarlyStopping(patience=50)\n",
        "history = model.fit(train_set, epochs=500,\n",
        "                    validation_data=valid_set,\n",
        "                    callbacks=[early_stopping, model_checkpoint])"
      ],
      "execution_count": 0,
      "outputs": []
    },
    {
      "cell_type": "code",
      "metadata": {
        "id": "G19p4cUWSbcg",
        "colab_type": "code",
        "colab": {}
      },
      "source": [
        "cnn_forecast = model_forecast(model, all_data[..., np.newaxis], window_size)\n",
        "cnn_forecast = cnn_forecast[-len(x_test):, -1, 0]"
      ],
      "execution_count": 0,
      "outputs": []
    },
    {
      "cell_type": "code",
      "metadata": {
        "id": "6OMEiRCQS7Nc",
        "colab_type": "code",
        "colab": {}
      },
      "source": [
        "plt.plot(cnn_forecast, label=\"cnn_forecast\")\n",
        "plt.plot(x_test, label=\"test\")\n",
        "plt.legend(loc=\"best\")\n",
        "plt.show()"
      ],
      "execution_count": 0,
      "outputs": []
    },
    {
      "cell_type": "code",
      "metadata": {
        "id": "mz4gEOUyS1Mv",
        "colab_type": "code",
        "colab": {}
      },
      "source": [
        "keras.metrics.mean_absolute_error(cnn_forecast, x_test).numpy()"
      ],
      "execution_count": 0,
      "outputs": []
    },
    {
      "cell_type": "code",
      "metadata": {
        "id": "FsMZ--OHX1qD",
        "colab_type": "code",
        "colab": {}
      },
      "source": [
        "train_set"
      ],
      "execution_count": 0,
      "outputs": []
    },
    {
      "cell_type": "markdown",
      "metadata": {
        "id": "HmzjwvbPVjl0",
        "colab_type": "text"
      },
      "source": [
        "##### Try Another Model (UNet with skip ocnnections)"
      ]
    },
    {
      "cell_type": "code",
      "metadata": {
        "id": "eFQfkuFuYQ6o",
        "colab_type": "code",
        "colab": {}
      },
      "source": [
        "inputs = keras.Input(shape=(None, 1), name=\"input\")\n",
        "\n",
        "conv1 = keras.layers.Conv1D(filters=32, kernel_size=2, strides=1, padding='same', activation='relu', name=\"f32\")(inputs) \n",
        "conv2 = keras.layers.Conv1D(filters=64, kernel_size=2, strides=1, padding='same', activation='relu', name=\"f64\")(conv1) \n",
        "\n",
        "conv3 = keras.layers.Conv1D(filters=128, kernel_size=2, strides=1, padding='same', activation='relu', name=\"f128\")(conv2) \n",
        "\n",
        "conv4 = keras.layers.Conv1D(filters=64, kernel_size=2, strides=1, padding='same', activation='relu', name=\"f64_b\")(conv3) \n",
        "conv5 = keras.layers.concatenate([conv2, conv4], axis=0) # axis could be 1?\n",
        "\n",
        "conv6 = keras.layers.Conv1D(filters=32, kernel_size=2, strides=1, padding='same', activation='relu')(conv5) \n",
        "conv7 = keras.layers.Conv1D(filters=1, kernel_size=1)(conv6)\n",
        "\n",
        "modell = keras.Model(inputs=inputs, outputs=conv7)\n",
        "\n",
        "optimizer = keras.optimizers.Adam(lr=3e-4)\n",
        "modell.compile(loss=keras.losses.Huber(),\n",
        "              optimizer=optimizer,\n",
        "              metrics=[\"mae\"])"
      ],
      "execution_count": 0,
      "outputs": []
    },
    {
      "cell_type": "code",
      "metadata": {
        "id": "9VD9tQ0KbBJJ",
        "colab_type": "code",
        "colab": {}
      },
      "source": [
        "model.summary()"
      ],
      "execution_count": 0,
      "outputs": []
    },
    {
      "cell_type": "code",
      "metadata": {
        "id": "Oyxy9Ky4bVT7",
        "colab_type": "code",
        "colab": {}
      },
      "source": [
        "keras.utils.plot_model(model)"
      ],
      "execution_count": 0,
      "outputs": []
    },
    {
      "cell_type": "code",
      "metadata": {
        "id": "3VWhyTUIb_jT",
        "colab_type": "code",
        "colab": {}
      },
      "source": [
        "history = modell.fit(train_set, epochs=500,\n",
        "                    validation_data=valid_set,\n",
        "                    callbacks=[early_stopping]) # does not seem to train?"
      ],
      "execution_count": 0,
      "outputs": []
    },
    {
      "cell_type": "markdown",
      "metadata": {
        "id": "3BsZWJKgGBNQ",
        "colab_type": "text"
      },
      "source": [
        "#### Separate: Ticker reveals more Financial Info"
      ]
    },
    {
      "cell_type": "code",
      "metadata": {
        "id": "O-_gnkYSGDdh",
        "colab_type": "code",
        "colab": {}
      },
      "source": [
        "yf_ticker = yf.Ticker(\"MSFT\")\n",
        "hist = yf_ticker.history(period=\"max\")"
      ],
      "execution_count": 0,
      "outputs": []
    },
    {
      "cell_type": "code",
      "metadata": {
        "id": "2pPydC2OGR9_",
        "colab_type": "code",
        "colab": {}
      },
      "source": [
        "yf_ticker.actions"
      ],
      "execution_count": 0,
      "outputs": []
    },
    {
      "cell_type": "markdown",
      "metadata": {
        "id": "EBmb7pVQITAV",
        "colab_type": "text"
      },
      "source": [
        "Idea:\n",
        " -  Face analysis web scraper\n",
        " -  Something to view financial statement; quarterly stuff, beginning, end etc.. Balance sheet\n",
        " -  Straight to CNN, skip the LTSM and take in a lot more data"
      ]
    },
    {
      "cell_type": "code",
      "metadata": {
        "id": "A3kyv9tpGxXY",
        "colab_type": "code",
        "colab": {}
      },
      "source": [
        ""
      ],
      "execution_count": 0,
      "outputs": []
    }
  ]
}