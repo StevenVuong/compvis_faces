{
  "nbformat": 4,
  "nbformat_minor": 0,
  "metadata": {
    "colab": {
      "name": "Image-Super-Resolution Prediction Tutorial.ipynb",
      "provenance": [],
      "collapsed_sections": [],
      "toc_visible": true,
      "include_colab_link": true
    },
    "kernelspec": {
      "name": "python3",
      "display_name": "Python 3"
    },
    "accelerator": "TPU"
  },
  "cells": [
    {
      "cell_type": "markdown",
      "metadata": {
        "id": "view-in-github",
        "colab_type": "text"
      },
      "source": [
        "<a href=\"https://colab.research.google.com/github/StevenVuong/compvis_playground/blob/master/jupyter_notebooks/Image_Super_Resolution_Prediction_Tutorial.ipynb\" target=\"_parent\"><img src=\"https://colab.research.google.com/assets/colab-badge.svg\" alt=\"Open In Colab\"/></a>"
      ]
    },
    {
      "cell_type": "markdown",
      "metadata": {
        "id": "tKP2mm0UKd4Y",
        "colab_type": "text"
      },
      "source": [
        "[![Google Colab](https://colab.research.google.com/assets/colab-badge.svg)](https://colab.research.google.com/github/idealo/image-super-resolution/blob/master/notebooks/ISR_Prediction_Tutorial.ipynb)"
      ]
    },
    {
      "cell_type": "markdown",
      "metadata": {
        "id": "RhwR-K4cVU_3",
        "colab_type": "text"
      },
      "source": [
        "Credits to Idealo. References & Further Documentation:\n",
        "-  https://github.com/idealo/image-super-resolution \n",
        "-  https://idealo.github.io/image-super-resolution/tutorials/docker/ "
      ]
    },
    {
      "cell_type": "markdown",
      "metadata": {
        "id": "Gf_BQkRQw5Sq",
        "colab_type": "text"
      },
      "source": [
        "### Fuse To GCS"
      ]
    },
    {
      "cell_type": "code",
      "metadata": {
        "id": "aAA1zzMJw76S",
        "colab_type": "code",
        "colab": {}
      },
      "source": [
        "from google.colab import auth\n",
        "auth.authenticate_user()"
      ],
      "execution_count": 0,
      "outputs": []
    },
    {
      "cell_type": "code",
      "metadata": {
        "id": "hDvm-wV3w-rJ",
        "colab_type": "code",
        "colab": {}
      },
      "source": [
        "!echo \"deb http://packages.cloud.google.com/apt gcsfuse-bionic main\" > /etc/apt/sources.list.d/gcsfuse.list\n",
        "!curl https://packages.cloud.google.com/apt/doc/apt-key.gpg | apt-key add -\n",
        "!apt -qq update\n",
        "!apt -qq install gcsfuse"
      ],
      "execution_count": 0,
      "outputs": []
    },
    {
      "cell_type": "code",
      "metadata": {
        "id": "VtRmsevJw-wY",
        "colab_type": "code",
        "colab": {}
      },
      "source": [
        "!mkdir compvis_playground\n",
        "!gcsfuse --implicit-dirs compvis_playground /content/compvis_playground"
      ],
      "execution_count": 0,
      "outputs": []
    },
    {
      "cell_type": "code",
      "metadata": {
        "id": "cP0zg6LwxnNn",
        "colab_type": "code",
        "colab": {}
      },
      "source": [
        "!ls compvis_playground/facenet"
      ],
      "execution_count": 0,
      "outputs": []
    },
    {
      "cell_type": "markdown",
      "metadata": {
        "colab_type": "text",
        "id": "QJ4sSTzDWAao"
      },
      "source": [
        "# Install ISR\n",
        "(skip if using local repo)"
      ]
    },
    {
      "cell_type": "code",
      "metadata": {
        "id": "pfY5u-IrLUG1",
        "colab_type": "code",
        "colab": {}
      },
      "source": [
        "!git clone https://github.com/idealo/image-super-resolution\n",
        "%cd image-super-resolution\n",
        "!python3 ./setup.py install"
      ],
      "execution_count": 0,
      "outputs": []
    },
    {
      "cell_type": "code",
      "metadata": {
        "id": "XxZ5BL5m2PRW",
        "colab_type": "code",
        "colab": {}
      },
      "source": [
        "import os \n",
        "import numpy as np\n",
        "from PIL import Image\n",
        "\n",
        "from progressbar import ProgressBar"
      ],
      "execution_count": 0,
      "outputs": []
    },
    {
      "cell_type": "markdown",
      "metadata": {
        "colab_type": "text",
        "id": "1kAgIRRqU1fZ"
      },
      "source": [
        "# Predict"
      ]
    },
    {
      "cell_type": "markdown",
      "metadata": {
        "colab_type": "text",
        "id": "OffTQBZHxnu9"
      },
      "source": [
        "## Get predictions"
      ]
    },
    {
      "cell_type": "markdown",
      "metadata": {
        "colab_type": "text",
        "id": "OiP5N0iGVJZ3"
      },
      "source": [
        "### Create the model and run prediction\n",
        "Create a RRDN or RDN model with the provided pre-trained weights, choose one"
      ]
    },
    {
      "cell_type": "code",
      "metadata": {
        "colab_type": "code",
        "id": "GF4egbZW2Yx1",
        "colab": {}
      },
      "source": [
        "# Uncomment if using local repo\n",
        "# import sys\n",
        "# sys.path.append('..')\n",
        "from ISR.models import RDN, RRDN\n",
        "\n",
        "weights_list = [\"noise-cancel\", \"gans\", \"psnr-small\", \"psnr-large\"]\n",
        "\n",
        "# found to be best one for increasing face res / cancel noise\n",
        "model = RDN(weights='noise-cancel') "
      ],
      "execution_count": 0,
      "outputs": []
    },
    {
      "cell_type": "markdown",
      "metadata": {
        "id": "7sdFKUOIKd47",
        "colab_type": "text"
      },
      "source": [
        "#### Alternatively, load your own weights\n",
        "To load your own weights first build the model specifying the architecture parameters and then load the weights like with any Keras model."
      ]
    },
    {
      "cell_type": "code",
      "metadata": {
        "id": "r-ddFcFEKd48",
        "colab_type": "code",
        "colab": {}
      },
      "source": [
        "# rdn = RDN(arch_params={'C': 5, 'D':16, 'G':48, 'G0':52, 'x':3})\n",
        "# rdn.model.load_weights('PATH/TO/WEIGHTS')"
      ],
      "execution_count": 0,
      "outputs": []
    },
    {
      "cell_type": "markdown",
      "metadata": {
        "id": "GA5i4gei-sB1",
        "colab_type": "text"
      },
      "source": [
        "#### Loop through Images; Predict and Save"
      ]
    },
    {
      "cell_type": "code",
      "metadata": {
        "id": "hnTK1NdH2FfT",
        "colab_type": "code",
        "colab": {}
      },
      "source": [
        "# Also need to do test_aligned images\n",
        "im_basepath = \"/content/compvis_playground/facenet/images/test_aligned\"\n",
        "im_savepath = \"/content/compvis_playground/facenet/images/test_aligned_isr\"\n",
        "\n",
        "pbar = ProgressBar()\n",
        "\n",
        "for name_dir in pbar(os.listdir(im_basepath)):\n",
        "\n",
        "  namedir_path = os.path.join(im_basepath, name_dir)\n",
        "\n",
        "  # If not subdirectory, skip.\n",
        "  if not os.path.isdir(namedir_path):\n",
        "    continue\n",
        "\n",
        "  for filename in os.listdir(namedir_path):\n",
        "\n",
        "    # If not image file, skip.\n",
        "    if not filename.endswith((\".png\", \".jpeg\", \".jpg\")):\n",
        "      continue\n",
        "\n",
        "    filepath = os.path.join(namedir_path, filename)\n",
        "\n",
        "    print(f\"Loading Image: {filepath}\")\n",
        "    img = Image.open(filepath)\n",
        "\n",
        "    print(f\"Predicting Super Res Image for {filename}\")\n",
        "    sr_img = model.predict(np.array(img))\n",
        "    pred_img = Image.fromarray(sr_img)\n",
        "\n",
        "    save_dir = os.path.join(im_savepath, name_dir)\n",
        "    print(f\"Saving Image to {save_dir}/\")\n",
        "\n",
        "    if not os.path.exists(save_dir):\n",
        "      os.makedirs(save_dir)\n",
        "\n",
        "    file_savepath = os.path.join(save_dir, filename)\n",
        "    pred_img.save(file_savepath)\n",
        "\n",
        "  #   break\n",
        "  # break"
      ],
      "execution_count": 0,
      "outputs": []
    },
    {
      "cell_type": "markdown",
      "metadata": {
        "id": "UMJMACJJKd4_",
        "colab_type": "text"
      },
      "source": [
        "#### Baseline"
      ]
    },
    {
      "cell_type": "code",
      "metadata": {
        "id": "1-RtLsYCKd5A",
        "colab_type": "code",
        "colab": {}
      },
      "source": [
        "# img.resize(size=(img.size[0]*4, img.size[1]*4), resample=Image.BICUBIC)"
      ],
      "execution_count": 0,
      "outputs": []
    },
    {
      "cell_type": "markdown",
      "metadata": {
        "colab_type": "text",
        "id": "XS6YXcvau-VU"
      },
      "source": [
        "#### Prediction"
      ]
    },
    {
      "cell_type": "code",
      "metadata": {
        "colab_type": "code",
        "id": "OXepKvnn1X_K",
        "colab": {}
      },
      "source": [
        "sr_img = model.predict(np.array(img))\n",
        "pred_img = Image.fromarray(sr_img)"
      ],
      "execution_count": 0,
      "outputs": []
    },
    {
      "cell_type": "code",
      "metadata": {
        "id": "ACR-KoYt5uT2",
        "colab_type": "code",
        "colab": {}
      },
      "source": [
        "type(pred_img)"
      ],
      "execution_count": 0,
      "outputs": []
    },
    {
      "cell_type": "code",
      "metadata": {
        "id": "quunKc0W6zY5",
        "colab_type": "code",
        "colab": {}
      },
      "source": [
        ""
      ],
      "execution_count": 0,
      "outputs": []
    }
  ]
}