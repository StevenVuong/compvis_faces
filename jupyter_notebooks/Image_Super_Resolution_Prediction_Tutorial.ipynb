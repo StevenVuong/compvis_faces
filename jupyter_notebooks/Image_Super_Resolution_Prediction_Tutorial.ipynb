{
  "nbformat": 4,
  "nbformat_minor": 0,
  "metadata": {
    "colab": {
      "name": "Image-Super-Resolution Prediction Tutorial.ipynb",
      "provenance": [],
      "collapsed_sections": [],
      "toc_visible": true,
      "include_colab_link": true
    },
    "kernelspec": {
      "name": "python3",
      "display_name": "Python 3"
    }
  },
  "cells": [
    {
      "cell_type": "markdown",
      "metadata": {
        "id": "view-in-github",
        "colab_type": "text"
      },
      "source": [
        "<a href=\"https://colab.research.google.com/github/StevenVuong/compvis_playground/blob/master/jupyter_notebooks/Image_Super_Resolution_Prediction_Tutorial.ipynb\" target=\"_parent\"><img src=\"https://colab.research.google.com/assets/colab-badge.svg\" alt=\"Open In Colab\"/></a>"
      ]
    },
    {
      "cell_type": "markdown",
      "metadata": {
        "id": "tKP2mm0UKd4Y",
        "colab_type": "text"
      },
      "source": [
        "[![Google Colab](https://colab.research.google.com/assets/colab-badge.svg)](https://colab.research.google.com/github/idealo/image-super-resolution/blob/master/notebooks/ISR_Prediction_Tutorial.ipynb)"
      ]
    },
    {
      "cell_type": "markdown",
      "metadata": {
        "id": "RhwR-K4cVU_3",
        "colab_type": "text"
      },
      "source": [
        "Credits to Idealo. References & Further Documentation:\n",
        "-  https://github.com/idealo/image-super-resolution \n",
        "-  https://idealo.github.io/image-super-resolution/tutorials/docker/ "
      ]
    },
    {
      "cell_type": "markdown",
      "metadata": {
        "id": "Gf_BQkRQw5Sq",
        "colab_type": "text"
      },
      "source": [
        "### Fuse To GCS"
      ]
    },
    {
      "cell_type": "code",
      "metadata": {
        "id": "aAA1zzMJw76S",
        "colab_type": "code",
        "colab": {}
      },
      "source": [
        "from google.colab import auth\n",
        "auth.authenticate_user()"
      ],
      "execution_count": 0,
      "outputs": []
    },
    {
      "cell_type": "code",
      "metadata": {
        "id": "hDvm-wV3w-rJ",
        "colab_type": "code",
        "colab": {
          "base_uri": "https://localhost:8080/",
          "height": 272
        },
        "outputId": "3e825efe-9d9f-4852-eba1-5f5676eafda3"
      },
      "source": [
        "!echo \"deb http://packages.cloud.google.com/apt gcsfuse-bionic main\" > /etc/apt/sources.list.d/gcsfuse.list\n",
        "!curl https://packages.cloud.google.com/apt/doc/apt-key.gpg | apt-key add -\n",
        "!apt -qq update\n",
        "!apt -qq install gcsfuse"
      ],
      "execution_count": 2,
      "outputs": [
        {
          "output_type": "stream",
          "text": [
            "  % Total    % Received % Xferd  Average Speed   Time    Time     Time  Current\n",
            "                                 Dload  Upload   Total   Spent    Left  Speed\n",
            "\r  0     0    0     0    0     0      0      0 --:--:-- --:--:-- --:--:--     0\r100   653  100   653    0     0  22517      0 --:--:-- --:--:-- --:--:-- 23321\n",
            "OK\n",
            "25 packages can be upgraded. Run 'apt list --upgradable' to see them.\n",
            "The following NEW packages will be installed:\n",
            "  gcsfuse\n",
            "0 upgraded, 1 newly installed, 0 to remove and 25 not upgraded.\n",
            "Need to get 4,274 kB of archives.\n",
            "After this operation, 12.8 MB of additional disk space will be used.\n",
            "Selecting previously unselected package gcsfuse.\n",
            "(Reading database ... 133872 files and directories currently installed.)\n",
            "Preparing to unpack .../gcsfuse_0.28.1_amd64.deb ...\n",
            "Unpacking gcsfuse (0.28.1) ...\n",
            "Setting up gcsfuse (0.28.1) ...\n"
          ],
          "name": "stdout"
        }
      ]
    },
    {
      "cell_type": "code",
      "metadata": {
        "id": "VtRmsevJw-wY",
        "colab_type": "code",
        "colab": {
          "base_uri": "https://localhost:8080/",
          "height": 102
        },
        "outputId": "803e4a45-984e-406b-fe30-12c5459dfdd1"
      },
      "source": [
        "!mkdir compvis_playground\n",
        "!gcsfuse --implicit-dirs compvis_playground /content/compvis_playground"
      ],
      "execution_count": 7,
      "outputs": [
        {
          "output_type": "stream",
          "text": [
            "Using mount point: /content/compvis_playground2\n",
            "Opening GCS connection...\n",
            "Opening bucket...\n",
            "Mounting file system...\n",
            "File system has been successfully mounted.\n"
          ],
          "name": "stdout"
        }
      ]
    },
    {
      "cell_type": "code",
      "metadata": {
        "id": "cP0zg6LwxnNn",
        "colab_type": "code",
        "colab": {}
      },
      "source": [
        "!ls compvis_playground/facenet"
      ],
      "execution_count": 0,
      "outputs": []
    },
    {
      "cell_type": "markdown",
      "metadata": {
        "colab_type": "text",
        "id": "QJ4sSTzDWAao"
      },
      "source": [
        "# Install ISR\n",
        "(skip if using local repo)"
      ]
    },
    {
      "cell_type": "code",
      "metadata": {
        "id": "pfY5u-IrLUG1",
        "colab_type": "code",
        "colab": {}
      },
      "source": [
        "!git clone https://github.com/idealo/image-super-resolution\n",
        "%cd image-super-resolution\n",
        "!python3 ./setup.py install"
      ],
      "execution_count": 0,
      "outputs": []
    },
    {
      "cell_type": "markdown",
      "metadata": {
        "colab_type": "text",
        "id": "1kAgIRRqU1fZ"
      },
      "source": [
        "# Predict"
      ]
    },
    {
      "cell_type": "markdown",
      "metadata": {
        "colab_type": "text",
        "id": "Br77QZiaLHNq"
      },
      "source": [
        "Download a sample image"
      ]
    },
    {
      "cell_type": "code",
      "metadata": {
        "colab_type": "code",
        "id": "MpMzDneKLGOt",
        "colab": {}
      },
      "source": [
        "!wget http://images.math.cnrs.fr/IMG/png/section8-image.png\n",
        "!mkdir -p data/input/test_images\n",
        "!mv *.png data/input/test_images"
      ],
      "execution_count": 0,
      "outputs": []
    },
    {
      "cell_type": "markdown",
      "metadata": {
        "colab_type": "text",
        "id": "IZG6dSS-tXSM"
      },
      "source": [
        "Load the image with PIL"
      ]
    },
    {
      "cell_type": "code",
      "metadata": {
        "colab_type": "code",
        "id": "hCZfkvojYwbY",
        "colab": {}
      },
      "source": [
        "import numpy as np\n",
        "from PIL import Image\n",
        "\n",
        "img = Image.open('data/input/test_images/section8-image.png')\n",
        "img"
      ],
      "execution_count": 0,
      "outputs": []
    },
    {
      "cell_type": "markdown",
      "metadata": {
        "colab_type": "text",
        "id": "OffTQBZHxnu9"
      },
      "source": [
        "## Get predictions"
      ]
    },
    {
      "cell_type": "markdown",
      "metadata": {
        "colab_type": "text",
        "id": "OiP5N0iGVJZ3"
      },
      "source": [
        "### Create the model and run prediction\n",
        "Create a RRDN or RDN model with the provided pre-trained weights, choose one"
      ]
    },
    {
      "cell_type": "code",
      "metadata": {
        "colab_type": "code",
        "id": "GF4egbZW2Yx1",
        "colab": {}
      },
      "source": [
        "# Uncomment if using local repo\n",
        "# import sys\n",
        "# sys.path.append('..')\n",
        "from ISR.models import RDN, RRDN\n",
        "\n",
        "# model = RDN(weights='noise-cancel')\n",
        "# model = RRDN(weights='gans')\n",
        "model = RDN(weights='psnr-small')\n",
        "# model = RDN(weights='psnr-large')"
      ],
      "execution_count": 0,
      "outputs": []
    },
    {
      "cell_type": "markdown",
      "metadata": {
        "id": "7sdFKUOIKd47",
        "colab_type": "text"
      },
      "source": [
        "#### Alternatively, load your own weights\n",
        "To load your own weights first build the model specifying the architecture parameters and then load the weights like with any Keras model."
      ]
    },
    {
      "cell_type": "code",
      "metadata": {
        "id": "r-ddFcFEKd48",
        "colab_type": "code",
        "colab": {}
      },
      "source": [
        "# rdn = RDN(arch_params={'C': 5, 'D':16, 'G':48, 'G0':52, 'x':3})\n",
        "# rdn.model.load_weights('PATH/TO/WEIGHTS')"
      ],
      "execution_count": 0,
      "outputs": []
    },
    {
      "cell_type": "markdown",
      "metadata": {
        "id": "UMJMACJJKd4_",
        "colab_type": "text"
      },
      "source": [
        "#### Baseline"
      ]
    },
    {
      "cell_type": "code",
      "metadata": {
        "id": "1-RtLsYCKd5A",
        "colab_type": "code",
        "colab": {}
      },
      "source": [
        "img.resize(size=(img.size[0]*4, img.size[1]*4), resample=Image.BICUBIC)"
      ],
      "execution_count": 0,
      "outputs": []
    },
    {
      "cell_type": "markdown",
      "metadata": {
        "colab_type": "text",
        "id": "XS6YXcvau-VU"
      },
      "source": [
        "#### Prediction"
      ]
    },
    {
      "cell_type": "code",
      "metadata": {
        "colab_type": "code",
        "id": "OXepKvnn1X_K",
        "colab": {}
      },
      "source": [
        "sr_img = model.predict(np.array(img))\n",
        "Image.fromarray(sr_img)"
      ],
      "execution_count": 0,
      "outputs": []
    },
    {
      "cell_type": "markdown",
      "metadata": {
        "colab_type": "text",
        "id": "KMQvbGMFvBCk"
      },
      "source": [
        "### Usecase: upscaling noisy images"
      ]
    },
    {
      "cell_type": "markdown",
      "metadata": {
        "colab_type": "text",
        "id": "YLkboI7Cyfdv"
      },
      "source": [
        "Compress the image into the jpeg format to introduce compression artefact and lose some information."
      ]
    },
    {
      "cell_type": "code",
      "metadata": {
        "colab_type": "code",
        "id": "AlSZwYyWvXxv",
        "colab": {}
      },
      "source": [
        "img.save('data/input/test_images/compressed.jpeg','JPEG', dpi=[300, 300], quality=50)\n",
        "compressed_img = Image.open('data/input/test_images/compressed.jpeg')\n",
        "\n",
        "compressed_img"
      ],
      "execution_count": 0,
      "outputs": []
    },
    {
      "cell_type": "markdown",
      "metadata": {
        "colab_type": "text",
        "id": "kdT6PvrO42Dx"
      },
      "source": [
        "#### Baseline"
      ]
    },
    {
      "cell_type": "code",
      "metadata": {
        "colab_type": "code",
        "id": "LECussdS47kb",
        "colab": {}
      },
      "source": [
        "compressed_img.resize(size=(compressed_img.size[0]*2, compressed_img.size[1]*2), resample=Image.BICUBIC)"
      ],
      "execution_count": 0,
      "outputs": []
    },
    {
      "cell_type": "code",
      "metadata": {
        "id": "CFKFQlJdKd5R",
        "colab_type": "code",
        "colab": {}
      },
      "source": [
        "model = RDN(weights='noise-cancel')\n",
        "sr_img = model.predict(np.array(compressed_img))\n",
        "Image.fromarray(sr_img)"
      ],
      "execution_count": 0,
      "outputs": []
    },
    {
      "cell_type": "markdown",
      "metadata": {
        "colab_type": "text",
        "id": "qjBQX1s_w356"
      },
      "source": [
        "### Predictor Class\n",
        "You can also use the predictor class to run the model on entire folders:"
      ]
    },
    {
      "cell_type": "code",
      "metadata": {
        "colab_type": "code",
        "id": "5e702gZiw-Df",
        "colab": {}
      },
      "source": [
        "from ISR.predict import Predictor\n",
        "!mkdir -p data/output\n",
        "predictor = Predictor(input_dir='data/input/sample/')\n",
        "predictor.get_predictions(model=model, weights_path='weights/rdn-C6-D20-G64-G064-x2_ArtefactCancelling_epoch219.hdf5')"
      ],
      "execution_count": 0,
      "outputs": []
    },
    {
      "cell_type": "code",
      "metadata": {
        "id": "hNCBKDodPojs",
        "colab_type": "code",
        "colab": {}
      },
      "source": [
        ""
      ],
      "execution_count": 0,
      "outputs": []
    }
  ]
}